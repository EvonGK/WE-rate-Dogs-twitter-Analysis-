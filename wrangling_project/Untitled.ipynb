{
 "cells": [
  {
   "cell_type": "markdown",
   "id": "e8d6d508",
   "metadata": {},
   "source": [
    "### Gilbert Kwabena EVON "
   ]
  },
  {
   "cell_type": "markdown",
   "id": "b06005ce",
   "metadata": {},
   "source": [
    "Analyzing the data refers to the process  manipulating, and modeling data with the objective of identifying usable information, informing conclusions, and assisting decision-making. \n",
    "Analyzing the data produced 3 insights and 1 visualisation.The insights produced were done programmatically using python programming and pandas functions.\n",
    "The first insight was that the tweets received more favorites than retweets. This was achieved using the pandas describe function to view the means of both columns which showed that the mean value for the favorite column was almost 3 times the mean value of the retweet column.\n",
    "The second insight was that a mean rating of 1.17 showed that most dogs received a rating bigger than the rating denominator. It also mentioned that the 25th percentile showed that only 25% of dogs received a ration equal or less than the rating denominator. This was done by observing the value counts of the rating column.\n",
    "The third insight showed that a majority of the dogs posted on the we rate dogs twitter page received a rating of 1.2.\n",
    "The visualization was based on a comparison of the prediction output of the first prediction with respect to favorite and retweet count which showed that posts which were predicted by the first prediction to be dogs had more tweet activity  (favorites and retweets) than posts which were not predicted to be dogs. Since the first prediction is the most accurate prediction according to the info provided on the data it is the most reliable hence why it was used for the analysis and visualizations.\n"
   ]
  }
 ],
 "metadata": {
  "kernelspec": {
   "display_name": "Python 3 (ipykernel)",
   "language": "python",
   "name": "python3"
  },
  "language_info": {
   "codemirror_mode": {
    "name": "ipython",
    "version": 3
   },
   "file_extension": ".py",
   "mimetype": "text/x-python",
   "name": "python",
   "nbconvert_exporter": "python",
   "pygments_lexer": "ipython3",
   "version": "3.9.12"
  }
 },
 "nbformat": 4,
 "nbformat_minor": 5
}
