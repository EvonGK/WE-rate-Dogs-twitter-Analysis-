{
 "cells": [
  {
   "cell_type": "markdown",
   "id": "4402c4c7",
   "metadata": {},
   "source": [
    "## Gilbert Kwabena Evon \n",
    "\n"
   ]
  },
  {
   "cell_type": "markdown",
   "id": "b2e5e9be",
   "metadata": {},
   "source": [
    "The Wrangling journey of this project is was divided into three part, which are: Gathering, Assessing and Cleaning. Each part was executed methodically to produce a final clean and tidy dataset.\n",
    "\n",
    "The first step, Gathering the data consisted of gathering data from various sources. Some data was given to me and others too I had to acquire by downloading from a source or getting them through an API. I downloaded the \"image-predictions.tsv\" flat file from ' https://d17h27t6h515a5.cloudfront.net/topher/2017/August/599fd2ad_image-predictions/image-predictions.tsv ' using request and also gathered information on favorites and retweet from the We rate Dogs twitter page through the twitter api using tweepy.\n",
    "\n",
    "Assessing the data was done using in two ways , visual and programmatic assessment. I used Microsoft Excel to view the data since viewing the datasets with dandas was difficult.I used pandas functions to further assess the data programmatically to enable thorough assessment of the data. Assesing the data I identified eight quality issues and two tidiness issues.\n",
    "\n",
    "Cleaning the data was done based on the issues I had documented in the accessing stage.As stated earlier there were eight quality issues and two tidiness issues. When cleaning the data i decide to first deal with the issue of missing data before handling the other issues since I needed all the data before cleaning. The misssing data issue were not able to be resolved since there were no other sources to get this data from and there was no data to complement the availabe data.After the missing data issues I cleaned the data quality issues with included erroneous data, invalid data, inaccurate data and inconsistent data. The cleaning was concluded with addressing the tidiness issues which required me to merge dataframes and also move some columns to different dataframes to since one of the rules for tidy data is that is observational unit should form a table.While addressing the tidiness issues I also melted some columns  into a single column because the rules of tidy data says that each column should be a variable and each row an observation. \n",
    "\n",
    "After completing all these cleaning was done the final clean and tidy dataset was saed into two files, the required \"twitter_archive_master.csv\" file and an aditional \"dog_info.csv\" file."
   ]
  }
 ],
 "metadata": {
  "kernelspec": {
   "display_name": "Python 3 (ipykernel)",
   "language": "python",
   "name": "python3"
  },
  "language_info": {
   "codemirror_mode": {
    "name": "ipython",
    "version": 3
   },
   "file_extension": ".py",
   "mimetype": "text/x-python",
   "name": "python",
   "nbconvert_exporter": "python",
   "pygments_lexer": "ipython3",
   "version": "3.9.12"
  }
 },
 "nbformat": 4,
 "nbformat_minor": 5
}
